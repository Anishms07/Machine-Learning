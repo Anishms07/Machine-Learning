{
 "cells": [
  {
   "cell_type": "code",
   "execution_count": 15,
   "id": "ba25a06d",
   "metadata": {},
   "outputs": [
    {
     "name": "stdout",
     "output_type": "stream",
     "text": [
      "+----+-----------------+--------+---------+\n",
      "|    | town            |   area |   price |\n",
      "+====+=================+========+=========+\n",
      "|  0 | monroe township |   2600 |  550000 |\n",
      "+----+-----------------+--------+---------+\n",
      "|  1 | monroe township |   3000 |  565000 |\n",
      "+----+-----------------+--------+---------+\n",
      "|  2 | monroe township |   3200 |  610000 |\n",
      "+----+-----------------+--------+---------+\n",
      "|  3 | monroe township |   3600 |  680000 |\n",
      "+----+-----------------+--------+---------+\n",
      "|  4 | monroe township |   4000 |  725000 |\n",
      "+----+-----------------+--------+---------+\n",
      "|  5 | west windsor    |   2600 |  585000 |\n",
      "+----+-----------------+--------+---------+\n",
      "|  6 | west windsor    |   2800 |  615000 |\n",
      "+----+-----------------+--------+---------+\n",
      "|  7 | west windsor    |   3300 |  650000 |\n",
      "+----+-----------------+--------+---------+\n",
      "|  8 | west windsor    |   3600 |  710000 |\n",
      "+----+-----------------+--------+---------+\n",
      "|  9 | robinsville     |   2600 |  575000 |\n",
      "+----+-----------------+--------+---------+\n",
      "| 10 | robinsville     |   2900 |  600000 |\n",
      "+----+-----------------+--------+---------+\n",
      "| 11 | robinsville     |   3100 |  620000 |\n",
      "+----+-----------------+--------+---------+\n",
      "| 12 | robinsville     |   3600 |  695000 |\n",
      "+----+-----------------+--------+---------+\n"
     ]
    }
   ],
   "source": [
    "import pandas as pd\n",
    "from tabulate import tabulate\n",
    "from sklearn import linear_model\n",
    "df=pd.read_csv(\"C:\\\\Users\\\\ANISH M S\\\\Downloads\\\\homeprices (2).csv\")\n",
    "print(tabulate(df,headers=\"keys\",tablefmt=\"grid\"))"
   ]
  },
  {
   "cell_type": "code",
   "execution_count": 3,
   "id": "8dbd1a71",
   "metadata": {},
   "outputs": [
    {
     "name": "stdout",
     "output_type": "stream",
     "text": [
      "    monroe township  robinsville  west windsor\n",
      "0              True        False         False\n",
      "1              True        False         False\n",
      "2              True        False         False\n",
      "3              True        False         False\n",
      "4              True        False         False\n",
      "5             False        False          True\n",
      "6             False        False          True\n",
      "7             False        False          True\n",
      "8             False        False          True\n",
      "9             False         True         False\n",
      "10            False         True         False\n",
      "11            False         True         False\n",
      "12            False         True         False\n"
     ]
    }
   ],
   "source": [
    "dummies=pd.get_dummies(df.town)\n",
    "print(dummies)"
   ]
  },
  {
   "cell_type": "code",
   "execution_count": 10,
   "id": "069022b0",
   "metadata": {},
   "outputs": [
    {
     "name": "stdout",
     "output_type": "stream",
     "text": [
      "               town  area   price  monroe township  robinsville  west windsor\n",
      "0   monroe township  2600  550000             True        False         False\n",
      "1   monroe township  3000  565000             True        False         False\n",
      "2   monroe township  3200  610000             True        False         False\n",
      "3   monroe township  3600  680000             True        False         False\n",
      "4   monroe township  4000  725000             True        False         False\n",
      "5      west windsor  2600  585000            False        False          True\n",
      "6      west windsor  2800  615000            False        False          True\n",
      "7      west windsor  3300  650000            False        False          True\n",
      "8      west windsor  3600  710000            False        False          True\n",
      "9       robinsville  2600  575000            False         True         False\n",
      "10      robinsville  2900  600000            False         True         False\n",
      "11      robinsville  3100  620000            False         True         False\n",
      "12      robinsville  3600  695000            False         True         False\n"
     ]
    }
   ],
   "source": [
    "merged=pd.concat([df,dummies],axis=1)\n",
    "print(merged)"
   ]
  },
  {
   "cell_type": "code",
   "execution_count": 14,
   "id": "3d9792df",
   "metadata": {},
   "outputs": [
    {
     "name": "stdout",
     "output_type": "stream",
     "text": [
      "    area   price  monroe township  robinsville\n",
      "0   2600  550000             True        False\n",
      "1   3000  565000             True        False\n",
      "2   3200  610000             True        False\n",
      "3   3600  680000             True        False\n",
      "4   4000  725000             True        False\n",
      "5   2600  585000            False        False\n",
      "6   2800  615000            False        False\n",
      "7   3300  650000            False        False\n",
      "8   3600  710000            False        False\n",
      "9   2600  575000            False         True\n",
      "10  2900  600000            False         True\n",
      "11  3100  620000            False         True\n",
      "12  3600  695000            False         True\n"
     ]
    }
   ],
   "source": [
    "final=merged.drop(['town','west windsor'],axis=1)\n",
    "print(final)"
   ]
  },
  {
   "cell_type": "code",
   "execution_count": 16,
   "id": "20c4e52c",
   "metadata": {},
   "outputs": [
    {
     "data": {
      "text/html": [
       "<style>#sk-container-id-1 {color: black;background-color: white;}#sk-container-id-1 pre{padding: 0;}#sk-container-id-1 div.sk-toggleable {background-color: white;}#sk-container-id-1 label.sk-toggleable__label {cursor: pointer;display: block;width: 100%;margin-bottom: 0;padding: 0.3em;box-sizing: border-box;text-align: center;}#sk-container-id-1 label.sk-toggleable__label-arrow:before {content: \"▸\";float: left;margin-right: 0.25em;color: #696969;}#sk-container-id-1 label.sk-toggleable__label-arrow:hover:before {color: black;}#sk-container-id-1 div.sk-estimator:hover label.sk-toggleable__label-arrow:before {color: black;}#sk-container-id-1 div.sk-toggleable__content {max-height: 0;max-width: 0;overflow: hidden;text-align: left;background-color: #f0f8ff;}#sk-container-id-1 div.sk-toggleable__content pre {margin: 0.2em;color: black;border-radius: 0.25em;background-color: #f0f8ff;}#sk-container-id-1 input.sk-toggleable__control:checked~div.sk-toggleable__content {max-height: 200px;max-width: 100%;overflow: auto;}#sk-container-id-1 input.sk-toggleable__control:checked~label.sk-toggleable__label-arrow:before {content: \"▾\";}#sk-container-id-1 div.sk-estimator input.sk-toggleable__control:checked~label.sk-toggleable__label {background-color: #d4ebff;}#sk-container-id-1 div.sk-label input.sk-toggleable__control:checked~label.sk-toggleable__label {background-color: #d4ebff;}#sk-container-id-1 input.sk-hidden--visually {border: 0;clip: rect(1px 1px 1px 1px);clip: rect(1px, 1px, 1px, 1px);height: 1px;margin: -1px;overflow: hidden;padding: 0;position: absolute;width: 1px;}#sk-container-id-1 div.sk-estimator {font-family: monospace;background-color: #f0f8ff;border: 1px dotted black;border-radius: 0.25em;box-sizing: border-box;margin-bottom: 0.5em;}#sk-container-id-1 div.sk-estimator:hover {background-color: #d4ebff;}#sk-container-id-1 div.sk-parallel-item::after {content: \"\";width: 100%;border-bottom: 1px solid gray;flex-grow: 1;}#sk-container-id-1 div.sk-label:hover label.sk-toggleable__label {background-color: #d4ebff;}#sk-container-id-1 div.sk-serial::before {content: \"\";position: absolute;border-left: 1px solid gray;box-sizing: border-box;top: 0;bottom: 0;left: 50%;z-index: 0;}#sk-container-id-1 div.sk-serial {display: flex;flex-direction: column;align-items: center;background-color: white;padding-right: 0.2em;padding-left: 0.2em;position: relative;}#sk-container-id-1 div.sk-item {position: relative;z-index: 1;}#sk-container-id-1 div.sk-parallel {display: flex;align-items: stretch;justify-content: center;background-color: white;position: relative;}#sk-container-id-1 div.sk-item::before, #sk-container-id-1 div.sk-parallel-item::before {content: \"\";position: absolute;border-left: 1px solid gray;box-sizing: border-box;top: 0;bottom: 0;left: 50%;z-index: -1;}#sk-container-id-1 div.sk-parallel-item {display: flex;flex-direction: column;z-index: 1;position: relative;background-color: white;}#sk-container-id-1 div.sk-parallel-item:first-child::after {align-self: flex-end;width: 50%;}#sk-container-id-1 div.sk-parallel-item:last-child::after {align-self: flex-start;width: 50%;}#sk-container-id-1 div.sk-parallel-item:only-child::after {width: 0;}#sk-container-id-1 div.sk-dashed-wrapped {border: 1px dashed gray;margin: 0 0.4em 0.5em 0.4em;box-sizing: border-box;padding-bottom: 0.4em;background-color: white;}#sk-container-id-1 div.sk-label label {font-family: monospace;font-weight: bold;display: inline-block;line-height: 1.2em;}#sk-container-id-1 div.sk-label-container {text-align: center;}#sk-container-id-1 div.sk-container {/* jupyter's `normalize.less` sets `[hidden] { display: none; }` but bootstrap.min.css set `[hidden] { display: none !important; }` so we also need the `!important` here to be able to override the default hidden behavior on the sphinx rendered scikit-learn.org. See: https://github.com/scikit-learn/scikit-learn/issues/21755 */display: inline-block !important;position: relative;}#sk-container-id-1 div.sk-text-repr-fallback {display: none;}</style><div id=\"sk-container-id-1\" class=\"sk-top-container\"><div class=\"sk-text-repr-fallback\"><pre>LinearRegression()</pre><b>In a Jupyter environment, please rerun this cell to show the HTML representation or trust the notebook. <br />On GitHub, the HTML representation is unable to render, please try loading this page with nbviewer.org.</b></div><div class=\"sk-container\" hidden><div class=\"sk-item\"><div class=\"sk-estimator sk-toggleable\"><input class=\"sk-toggleable__control sk-hidden--visually\" id=\"sk-estimator-id-1\" type=\"checkbox\" checked><label for=\"sk-estimator-id-1\" class=\"sk-toggleable__label sk-toggleable__label-arrow\">LinearRegression</label><div class=\"sk-toggleable__content\"><pre>LinearRegression()</pre></div></div></div></div></div>"
      ],
      "text/plain": [
       "LinearRegression()"
      ]
     },
     "execution_count": 16,
     "metadata": {},
     "output_type": "execute_result"
    }
   ],
   "source": [
    "reg=linear_model.LinearRegression()\n",
    "reg.fit(final[['area','monroe township','robinsville']],final.price)"
   ]
  },
  {
   "cell_type": "code",
   "execution_count": 17,
   "id": "b252faa4",
   "metadata": {},
   "outputs": [
    {
     "name": "stderr",
     "output_type": "stream",
     "text": [
      "C:\\ProgramData\\anaconda3\\Lib\\site-packages\\sklearn\\base.py:439: UserWarning: X does not have valid feature names, but LinearRegression was fitted with feature names\n",
      "  warnings.warn(\n"
     ]
    },
    {
     "data": {
      "text/plain": [
       "array([628537.94882821])"
      ]
     },
     "execution_count": 17,
     "metadata": {},
     "output_type": "execute_result"
    }
   ],
   "source": [
    "reg.predict([[3300,1,0]])"
   ]
  },
  {
   "cell_type": "code",
   "execution_count": 18,
   "id": "1383638f",
   "metadata": {},
   "outputs": [
    {
     "data": {
      "text/plain": [
       "0.9573929037221872"
      ]
     },
     "execution_count": 18,
     "metadata": {},
     "output_type": "execute_result"
    }
   ],
   "source": [
    "reg.score(final[['area','monroe township','robinsville']],final.price)"
   ]
  },
  {
   "cell_type": "code",
   "execution_count": 19,
   "id": "0bb3f4fc",
   "metadata": {},
   "outputs": [],
   "source": [
    "#another method is written the notebook\n",
    "#where the 2 seprate dataframes are made and put into training like reg.fit(x,y) where x and y are dataframes"
   ]
  },
  {
   "cell_type": "code",
   "execution_count": null,
   "id": "9e11372f",
   "metadata": {},
   "outputs": [],
   "source": []
  }
 ],
 "metadata": {
  "kernelspec": {
   "display_name": "Python 3 (ipykernel)",
   "language": "python",
   "name": "python3"
  },
  "language_info": {
   "codemirror_mode": {
    "name": "ipython",
    "version": 3
   },
   "file_extension": ".py",
   "mimetype": "text/x-python",
   "name": "python",
   "nbconvert_exporter": "python",
   "pygments_lexer": "ipython3",
   "version": "3.11.3"
  }
 },
 "nbformat": 4,
 "nbformat_minor": 5
}
